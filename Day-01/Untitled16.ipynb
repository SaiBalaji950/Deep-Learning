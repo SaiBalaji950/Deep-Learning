{
 "cells": [
  {
   "cell_type": "code",
   "execution_count": null,
   "id": "feb92fd7-f041-4bdb-ad18-552af4bf74cb",
   "metadata": {},
   "outputs": [],
   "source": [
    "Tensorflow Tutorial \n",
    "\n",
    "\n",
    "Tensorflow is one of the famous deep learning framework and library was designed by Google Team.\n",
    "It was one of the free and open source software library in python language.That means it is very \n",
    "easy to develop deep learning projects on Tensorflow in an easy and efficient manner.\n",
    "\n",
    "\n",
    "Tensorflow is mainly used in\n",
    "\n",
    "1) Mathematical Operations\n",
    "2) Linear Algebra\n",
    "3) Concepts in Artificial Intelligence(AI)"
   ]
  },
  {
   "cell_type": "code",
   "execution_count": null,
   "id": "de199126-6213-4306-b84b-ed45094efde3",
   "metadata": {},
   "outputs": [],
   "source": [
    "What is Tensorflow\n",
    "\n",
    "Tensorflow is one of the popular library for both machine learning and deep learning and it is a free and open source \n",
    "library which was released on 9th november 2015 and developed by Google Brain Team. It is entirely based on python \n",
    "programming language and use for mathematical computation and data flow and it makes machine learning easier and faster.\n",
    "\n",
    "Tensorflow can train and run the deep neural networks for image recognition, handwritten digit classification,\n",
    "recurrent neural network, word embedding and natural language processing,video detection and many more.\n",
    "\n",
    "Tensorflow can run on both multiple cpu or gpu and mobile operating system also.\n",
    "\n",
    "Tensorflow is divided into two words. they are 'tensor' and 'flow'.\n",
    "\n",
    "Tensor - it is an multi-dimensional array.\n",
    "flow - Flow is used to define the flow of data in operation.\n",
    "\n",
    "Hence Tensorflow means Flow of Data in operation used on multi-dimensional array."
   ]
  },
  {
   "cell_type": "code",
   "execution_count": null,
   "id": "9aa71b7c-4417-490c-bf2d-d04255403112",
   "metadata": {},
   "outputs": [],
   "source": [
    "History of TensorFlow\n",
    "Many years ago, deep learning started to exceed all other machine learning algorithms when giving extensive data.\n",
    "Google has seen it could use these deep neural networks to upgrade its services:\n",
    "\n",
    "1) Google search engine\n",
    "2) Gmail\n",
    "3) Photo\n",
    "They build a framework called TensorFlow to permit researchers and developers to work together in an AI model. \n",
    "Once it approved and scaled, it allows lots of people to use it.\n",
    "\n",
    "It was first released in 2015, while the first stable version was coming in 2017. It is an open- source platform under Apache Open Source License.\n",
    "We can use it, modify it, and reorganize the revised version for free without paying anything to Google."
   ]
  },
  {
   "cell_type": "code",
   "execution_count": null,
   "id": "82618ac0-93e4-4d5a-82ed-fa2fc69a4382",
   "metadata": {},
   "outputs": [],
   "source": [
    "Applications and uses of Tensorflow\n",
    "\n",
    "1) Voice/Sound Recognition\n",
    "2) Image Recognition\n",
    "3) Video Detection\n",
    "4) Text-Based Application\n",
    "5) Time Series"
   ]
  },
  {
   "cell_type": "code",
   "execution_count": null,
   "id": "6de6b08f-5f83-4939-b6ff-86da7399975b",
   "metadata": {},
   "outputs": [],
   "source": [
    "Features of Tensorflow\n",
    "\n",
    "1) Responsive Construct\n",
    "2) Flexible\n",
    "3) Easily Trainable\n",
    "4) Parallel Neural Network Training\n",
    "5) Open Source\n",
    "6) Large Community\n",
    "7) Layered Components\n",
    "8) Feature Columns\n",
    "9) Event Logger\n",
    "10) Vizualizer"
   ]
  },
  {
   "cell_type": "code",
   "execution_count": null,
   "id": "54a64b28-2d5d-4577-ba15-b5c2f7848d88",
   "metadata": {},
   "outputs": [],
   "source": [
    "Installing of Tensorflow\n",
    "\n",
    "In Pip(Package Installer Python) by\n",
    "\n",
    "'pip install tensorflow'"
   ]
  },
  {
   "cell_type": "code",
   "execution_count": null,
   "id": "f154421f-eaa5-473f-8331-f84bd778913f",
   "metadata": {},
   "outputs": [],
   "source": [
    "Advantages of Tensorflow\n",
    "\n",
    "1) Graphs\n",
    "2) Library Management\n",
    "3) Debugging\n",
    "4) Pipelining\n",
    "5) Scalability"
   ]
  },
  {
   "cell_type": "code",
   "execution_count": null,
   "id": "8c3ed1e6-b729-4da0-8d30-f8e79ee7dd88",
   "metadata": {},
   "outputs": [],
   "source": [
    "Disadavantages of Tensorflow\n",
    "\n",
    "1) No support for windows\n",
    "2) Missing Symbolic Loops\n",
    "3) Computational test\n",
    "4) Benchmark Testing\n",
    "5) No GPU support other than NIVIDIA and only one language support."
   ]
  },
  {
   "cell_type": "code",
   "execution_count": null,
   "id": "8e827f8c-767c-467c-a5ca-76b040f80fb2",
   "metadata": {},
   "outputs": [],
   "source": [
    "Tensorflow Operations\n",
    "\n",
    "Add, Subtract, Multiply, Divide, Square, Reshape"
   ]
  },
  {
   "cell_type": "code",
   "execution_count": 4,
   "id": "ac6cdd36-a0d8-4d60-a312-d9c9484732fc",
   "metadata": {},
   "outputs": [
    {
     "name": "stdout",
     "output_type": "stream",
     "text": [
      "tf.Tensor(30, shape=(), dtype=int32)\n"
     ]
    }
   ],
   "source": [
    "import tensorflow as tf\n",
    "a=10\n",
    "b=20\n",
    "c=tf.add(a,b)\n",
    "print(c)"
   ]
  },
  {
   "cell_type": "code",
   "execution_count": 5,
   "id": "20f75383-1126-4bfe-ae6f-2d3f115d9cef",
   "metadata": {},
   "outputs": [
    {
     "name": "stdout",
     "output_type": "stream",
     "text": [
      "tf.Tensor(-10, shape=(), dtype=int32)\n"
     ]
    }
   ],
   "source": [
    "import tensorflow as tf\n",
    "a=10\n",
    "b=20\n",
    "c=tf.subtract(a,b)\n",
    "print(c)"
   ]
  },
  {
   "cell_type": "code",
   "execution_count": 6,
   "id": "e5671a14-b533-4992-a719-31d36318daf1",
   "metadata": {},
   "outputs": [
    {
     "name": "stdout",
     "output_type": "stream",
     "text": [
      "tf.Tensor(200, shape=(), dtype=int32)\n"
     ]
    }
   ],
   "source": [
    "import tensorflow as tf\n",
    "a=10\n",
    "b=20\n",
    "c=tf.multiply(a,b)\n",
    "print(c)"
   ]
  },
  {
   "cell_type": "code",
   "execution_count": 7,
   "id": "31a9bfd2-2fa7-4ccb-bd81-719fdcd66772",
   "metadata": {},
   "outputs": [
    {
     "name": "stdout",
     "output_type": "stream",
     "text": [
      "tf.Tensor(0.5, shape=(), dtype=float64)\n"
     ]
    }
   ],
   "source": [
    "import tensorflow as tf\n",
    "a=10\n",
    "b=20\n",
    "c=tf.divide(a,b)\n",
    "print(c)"
   ]
  },
  {
   "cell_type": "code",
   "execution_count": 10,
   "id": "cbd74aa4-8e59-47c4-b0d6-3503b9736609",
   "metadata": {},
   "outputs": [
    {
     "name": "stdout",
     "output_type": "stream",
     "text": [
      "tf.Tensor(\n",
      "[[10 10]\n",
      " [10 10]\n",
      " [10 10]], shape=(3, 2), dtype=int32)\n"
     ]
    }
   ],
   "source": [
    "import tensorflow as tf\n",
    "a=tf.constant([[1,2],[3,4],[5,6]])\n",
    "b=tf.constant([[9,8],[7,6],[5,4]])\n",
    "c=tf.add(a,b)\n",
    "print(c)"
   ]
  },
  {
   "cell_type": "code",
   "execution_count": 11,
   "id": "30a9f1f4-4bc7-4512-93da-ff3cabd226d9",
   "metadata": {},
   "outputs": [
    {
     "name": "stdout",
     "output_type": "stream",
     "text": [
      "tf.Tensor(\n",
      "[[-8 -6]\n",
      " [-4 -2]\n",
      " [ 0  2]], shape=(3, 2), dtype=int32)\n"
     ]
    }
   ],
   "source": [
    "import tensorflow as tf\n",
    "a=tf.constant([[1,2],[3,4],[5,6]])\n",
    "b=tf.constant([[9,8],[7,6],[5,4]])\n",
    "c=tf.subtract(a,b)\n",
    "print(c)"
   ]
  },
  {
   "cell_type": "code",
   "execution_count": 13,
   "id": "8478d16a-fafa-447c-8b23-a46aaa5b6fb8",
   "metadata": {},
   "outputs": [
    {
     "ename": "AttributeError",
     "evalue": "module 'tensorflow' has no attribute 'dot'",
     "output_type": "error",
     "traceback": [
      "\u001b[1;31m---------------------------------------------------------------------------\u001b[0m",
      "\u001b[1;31mAttributeError\u001b[0m                            Traceback (most recent call last)",
      "Input \u001b[1;32mIn [13]\u001b[0m, in \u001b[0;36m<cell line: 4>\u001b[1;34m()\u001b[0m\n\u001b[0;32m      2\u001b[0m a\u001b[38;5;241m=\u001b[39mtf\u001b[38;5;241m.\u001b[39mconstant([[\u001b[38;5;241m1\u001b[39m,\u001b[38;5;241m2\u001b[39m],[\u001b[38;5;241m3\u001b[39m,\u001b[38;5;241m4\u001b[39m],[\u001b[38;5;241m5\u001b[39m,\u001b[38;5;241m6\u001b[39m]])\n\u001b[0;32m      3\u001b[0m b\u001b[38;5;241m=\u001b[39mtf\u001b[38;5;241m.\u001b[39mconstant([[\u001b[38;5;241m9\u001b[39m,\u001b[38;5;241m8\u001b[39m],[\u001b[38;5;241m7\u001b[39m,\u001b[38;5;241m6\u001b[39m],[\u001b[38;5;241m5\u001b[39m,\u001b[38;5;241m4\u001b[39m]])\n\u001b[1;32m----> 4\u001b[0m c\u001b[38;5;241m=\u001b[39mtf\u001b[38;5;241m.\u001b[39mdot(a,b)\n\u001b[0;32m      5\u001b[0m \u001b[38;5;28mprint\u001b[39m(c)\n",
      "\u001b[1;31mAttributeError\u001b[0m: module 'tensorflow' has no attribute 'dot'"
     ]
    }
   ],
   "source": [
    "import tensorflow as tf\n",
    "a=tf.constant([[1,2],[3,4],[5,6]])\n",
    "b=tf.constant([[9,8],[7,6],[5,4]])\n",
    "c=tf.dot(a,b)\n",
    "print(c)"
   ]
  },
  {
   "cell_type": "code",
   "execution_count": null,
   "id": "63164dfd-9504-4c07-a652-4eed026a0567",
   "metadata": {},
   "outputs": [],
   "source": [
    "Instead of Dot We need to use linalg matmul for dot operator"
   ]
  },
  {
   "cell_type": "code",
   "execution_count": 15,
   "id": "7f000317-8a4d-48ce-ae82-59bc0ddc05cb",
   "metadata": {},
   "outputs": [
    {
     "name": "stdout",
     "output_type": "stream",
     "text": [
      "tf.Tensor(\n",
      "[[23 20]\n",
      " [55 48]\n",
      " [87 76]], shape=(3, 2), dtype=int32)\n"
     ]
    }
   ],
   "source": [
    "import tensorflow as tf\n",
    "a=tf.constant([[1,2],[3,4],[5,6]])\n",
    "b=tf.constant([[9,8],[7,6]])\n",
    "c=tf.linalg.matmul(a,b)\n",
    "print(c)"
   ]
  },
  {
   "cell_type": "code",
   "execution_count": null,
   "id": "d1556a9f-0938-4f6c-aa35-b44a345b84de",
   "metadata": {},
   "outputs": [],
   "source": []
  }
 ],
 "metadata": {
  "kernelspec": {
   "display_name": "Python 3 (ipykernel)",
   "language": "python",
   "name": "python3"
  },
  "language_info": {
   "codemirror_mode": {
    "name": "ipython",
    "version": 3
   },
   "file_extension": ".py",
   "mimetype": "text/x-python",
   "name": "python",
   "nbconvert_exporter": "python",
   "pygments_lexer": "ipython3",
   "version": "3.9.12"
  }
 },
 "nbformat": 4,
 "nbformat_minor": 5
}
