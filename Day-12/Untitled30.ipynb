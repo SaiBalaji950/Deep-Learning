{
 "cells": [
  {
   "cell_type": "code",
   "execution_count": null,
   "id": "c413ad47-8ea4-4b0b-ad75-8453f4ed34f5",
   "metadata": {},
   "outputs": [],
   "source": [
    "Pytorch Mean and Standard Deviation"
   ]
  },
  {
   "cell_type": "code",
   "execution_count": 4,
   "id": "3bc6699b-51f9-454b-b7b9-95d596772068",
   "metadata": {},
   "outputs": [
    {
     "name": "stdout",
     "output_type": "stream",
     "text": [
      "tensor(5.5000)\n",
      "tensor(3.0277)\n"
     ]
    }
   ],
   "source": [
    "import torch\n",
    "a=torch.tensor([1,2,3,4,5,6,7,8,9,10],dtype=torch.float)\n",
    "mean=a.mean(dim=0)\n",
    "std=a.std(dim=0)\n",
    "print(mean)\n",
    "print(std)"
   ]
  },
  {
   "cell_type": "code",
   "execution_count": 5,
   "id": "ccb07752-f6ed-46a0-b7a5-ffe14cc12c47",
   "metadata": {},
   "outputs": [
    {
     "name": "stdout",
     "output_type": "stream",
     "text": [
      "tensor(5.5000)\n",
      "tensor(3.0277)\n"
     ]
    }
   ],
   "source": [
    "import torch\n",
    "a=torch.tensor([1,2,3,4,5,6,7,8,9,10]).float()\n",
    "mean=a.mean(dim=0)\n",
    "std=a.std(dim=0)\n",
    "print(mean)\n",
    "print(std)"
   ]
  },
  {
   "cell_type": "code",
   "execution_count": null,
   "id": "86618d74-8bf9-4a14-b110-0f0b7dca2579",
   "metadata": {},
   "outputs": [],
   "source": [
    "Tensors Introduction\n",
    "\n",
    "\n",
    "Tensors are the key components of Pytorch. We can say PyTorch is wholly based on the Tensors. \n",
    "In mathematics, a rectangular array of number is called metrics. In NumPy library, these metrics called ndaaray. \n",
    "In PyTorch, it is known as Tensor. A tensor is an n-dimensional data container. \n",
    "For example, In PyTorch, 1d-tensor is a vector, 2d-tensor is a metrics, 3d- tensor is a cube, and 4d-tensor is a cube vector.\n",
    "\n",
    "Torch provides tensor computation with strong GPU acceleration. \n",
    "It is essential that we get familiar with the tensor data structure to work with PyTorch. \n",
    "It will serve as a fundamental prerequisite before neural network implementation.\n",
    "\n",
    "In Deep learning, Tensor is the key part, and we can see so many discussion around Tensor. \n",
    "Even it appears in the name of Googles main machine learning library, i.e., TensorFlow."
   ]
  },
  {
   "cell_type": "code",
   "execution_count": null,
   "id": "d50495b1-e3a8-4b4d-ac59-8ed9dc61189b",
   "metadata": {},
   "outputs": [],
   "source": [
    "How to create Tensor?\n",
    "There are three ways by which we can create the Tensor. Each one has a different way to createTensor and use a different method. Tensors are created as\n",
    "\n",
    "Create Tensor from an array\n",
    "Create Tensor with all ones and random number\n",
    "Create Tensor from numpy array\n"
   ]
  },
  {
   "cell_type": "code",
   "execution_count": null,
   "id": "56f17514-46da-4d23-904a-ea54f3ae6dda",
   "metadata": {},
   "outputs": [],
   "source": [
    "Create Tensor from an array"
   ]
  },
  {
   "cell_type": "code",
   "execution_count": 6,
   "id": "e21f6cac-96e7-4f59-85ed-b305baf5eee5",
   "metadata": {},
   "outputs": [
    {
     "name": "stdout",
     "output_type": "stream",
     "text": [
      "tensor([[2, 4],\n",
      "        [3, 5]])\n"
     ]
    }
   ],
   "source": [
    "import torch\n",
    "array=[[2,4],[3,5]]\n",
    "a=torch.tensor(array)\n",
    "print(a)"
   ]
  },
  {
   "cell_type": "code",
   "execution_count": null,
   "id": "7f14f85e-5535-4472-8227-50e4f6b3986d",
   "metadata": {},
   "outputs": [],
   "source": [
    "Create a Tensor from numpy array\n",
    "\n",
    "To create a tensor from the numpy array, we have to create a numpy array. \n",
    "Once your numpy array is created, we have to pass it in from_numpy() as an argument. This method converts the numpy array to tensor."
   ]
  },
  {
   "cell_type": "code",
   "execution_count": 8,
   "id": "4d5dfcbe-d1e0-4195-9ab4-255812d26742",
   "metadata": {},
   "outputs": [
    {
     "name": "stdout",
     "output_type": "stream",
     "text": [
      "[[1. 1.]\n",
      " [1. 1.]]\n"
     ]
    }
   ],
   "source": [
    "import numpy as np\n",
    "import torch\n",
    "numpy_arr=np.ones((2,2))\n",
    "pytorch=torch.from_numpy(numpy_arr)\n",
    "a=pytorch.numpy()\n",
    "print(a)"
   ]
  },
  {
   "cell_type": "code",
   "execution_count": 9,
   "id": "adbd2c9e-86f4-42a8-9c51-1c09c96a67e7",
   "metadata": {},
   "outputs": [
    {
     "name": "stdout",
     "output_type": "stream",
     "text": [
      "[[1. 1. 1. 1. 1.]\n",
      " [1. 1. 1. 1. 1.]\n",
      " [1. 1. 1. 1. 1.]\n",
      " [1. 1. 1. 1. 1.]\n",
      " [1. 1. 1. 1. 1.]]\n"
     ]
    }
   ],
   "source": [
    "import numpy as np\n",
    "import torch\n",
    "numpy_arr=np.ones((5,5))\n",
    "pytorch=torch.from_numpy(numpy_arr)\n",
    "a=pytorch.numpy()\n",
    "print(a)"
   ]
  },
  {
   "cell_type": "code",
   "execution_count": 10,
   "id": "44c2f02f-da96-4b24-9f32-9b44a9449fc0",
   "metadata": {},
   "outputs": [
    {
     "name": "stdout",
     "output_type": "stream",
     "text": [
      "[[1. 1. 1. 1. 1.]\n",
      " [1. 1. 1. 1. 1.]\n",
      " [1. 1. 1. 1. 1.]\n",
      " [1. 1. 1. 1. 1.]\n",
      " [1. 1. 1. 1. 1.]\n",
      " [1. 1. 1. 1. 1.]\n",
      " [1. 1. 1. 1. 1.]\n",
      " [1. 1. 1. 1. 1.]\n",
      " [1. 1. 1. 1. 1.]\n",
      " [1. 1. 1. 1. 1.]]\n"
     ]
    }
   ],
   "source": [
    "import numpy as np\n",
    "import torch\n",
    "numpy_arr=np.ones((10,5))\n",
    "pytorch=torch.from_numpy(numpy_arr)\n",
    "a=pytorch.numpy()\n",
    "print(a)"
   ]
  },
  {
   "cell_type": "code",
   "execution_count": 11,
   "id": "7cc1acb4-3768-4462-9e5d-9b1cf0d2709e",
   "metadata": {},
   "outputs": [
    {
     "name": "stdout",
     "output_type": "stream",
     "text": [
      "[[1. 1. 1. 1. 1. 1. 1. 1. 1. 1.]\n",
      " [1. 1. 1. 1. 1. 1. 1. 1. 1. 1.]\n",
      " [1. 1. 1. 1. 1. 1. 1. 1. 1. 1.]\n",
      " [1. 1. 1. 1. 1. 1. 1. 1. 1. 1.]\n",
      " [1. 1. 1. 1. 1. 1. 1. 1. 1. 1.]]\n"
     ]
    }
   ],
   "source": [
    "import numpy as np\n",
    "import torch\n",
    "numpy_arr=np.ones((5,10))\n",
    "pytorch=torch.from_numpy(numpy_arr)\n",
    "a=pytorch.numpy()\n",
    "print(a)"
   ]
  },
  {
   "cell_type": "code",
   "execution_count": null,
   "id": "3338037a-eebf-4fa5-a144-3bc78a17d86a",
   "metadata": {},
   "outputs": [],
   "source": [
    "One Dimensional Tensors\n",
    "As we know, PyTorch has been embraced by Deep learning world for the ability to conveniently define neural network. \n",
    "Neural network is fundamentally structured to sensors, and PyTorch is also built around sensors. There tends to be a significant boost in performance. \n",
    "Vaguely a tensor is a generalization of matrices.\n",
    "\n",
    "One Dimensional Tensors\n",
    "1D-Tensor is similar to 1D- matrix. In one dimensional Tensor have only one row and one column which is known as vector. \n",
    "There is a zero-dimensional tensor also which is known as a scalar.\n",
    "\n",
    "Now we will discuss operations which are performed on tensors.\n",
    "\n",
    "We can use Google Colab also to write the code of Tensor. Accessing Google Colab is very simple. \n",
    "For Google Colab, There is no setup required. It runs entirely on the cloud.\n",
    "\n",
    "One Dimensional Tensors\n",
    "Google Colab is similar to Jupyter Notebook. Many packages come pre-install for us when using Google Colab. \n",
    "Unfortunately, the torch is not one of them, so we have first to install torch using !pip3 install torch command.\n",
    "\n",
    "Now, we will perform the operation on one-dimensional Tensor.\n",
    "\n",
    "Creating one-dimensional Tensor\n",
    "For creating a one-dimensional Tensor, we use the tensor property of torch library. To create a tensor, we use the torch.tensor() method.\n",
    "\n",
    "Syntax of creating one dimensional tensor is as follows:\n",
    "\n",
    "n= torch.tensor([Tensor elements])  \n",
    "Here, n is a variable of tensor type and tensor elements can be any integer or floating point number following with (,)."
   ]
  },
  {
   "cell_type": "code",
   "execution_count": 12,
   "id": "649e8aab-b342-4a24-bc09-bf3266af9b14",
   "metadata": {},
   "outputs": [
    {
     "name": "stdout",
     "output_type": "stream",
     "text": [
      "tensor([1, 2, 3, 4, 5])\n"
     ]
    }
   ],
   "source": [
    "import torch\n",
    "a=torch.tensor([1,2,3,4,5])\n",
    "print(a)"
   ]
  },
  {
   "cell_type": "code",
   "execution_count": null,
   "id": "6cf2ce03-41d5-4646-90a1-56b222f97a20",
   "metadata": {},
   "outputs": [],
   "source": [
    "Checking data type of elements in Tensor\n",
    "We can check the data type of the element which contains in Tensor. We use dtype() of Tensor to find the data type."
   ]
  },
  {
   "cell_type": "code",
   "execution_count": 13,
   "id": "42aadc9c-f446-481e-bb56-499149f24367",
   "metadata": {},
   "outputs": [
    {
     "name": "stdout",
     "output_type": "stream",
     "text": [
      "torch.int64\n"
     ]
    }
   ],
   "source": [
    "import torch\n",
    "a=torch.tensor([1,2,3])\n",
    "print(a.dtype)"
   ]
  },
  {
   "cell_type": "code",
   "execution_count": 14,
   "id": "7b193754-b344-4730-afe1-cecf4af015d3",
   "metadata": {},
   "outputs": [
    {
     "name": "stdout",
     "output_type": "stream",
     "text": [
      "torch.float32\n"
     ]
    }
   ],
   "source": [
    "import torch\n",
    "a=torch.tensor([1.0,9.0,11.0])\n",
    "print(a.dtype)"
   ]
  },
  {
   "cell_type": "code",
   "execution_count": null,
   "id": "56c01ed8-4d75-4761-9a3c-0d02f6f4313d",
   "metadata": {},
   "outputs": [],
   "source": [
    "Accessing of Tensors elements\n",
    "\n",
    "We can access the elements of Tensor with the help of the index of that element. \n",
    "If we want to print all the elements of Tensor, then we can print the tensor variable. \n",
    "Like the one-dimensional metrics index, Tensor index also starts from 0."
   ]
  },
  {
   "cell_type": "code",
   "execution_count": 25,
   "id": "56827432-9a2d-4218-9df2-ef281f08061f",
   "metadata": {},
   "outputs": [
    {
     "name": "stdout",
     "output_type": "stream",
     "text": [
      "tensor(3.)\n"
     ]
    }
   ],
   "source": [
    "import torch\n",
    "a=torch.tensor([1.0,2.0,3.0])\n",
    "print(a[2])"
   ]
  },
  {
   "cell_type": "code",
   "execution_count": 29,
   "id": "6c0134c0-4f9e-4b07-802b-9a823e7083c7",
   "metadata": {},
   "outputs": [
    {
     "name": "stdout",
     "output_type": "stream",
     "text": [
      "tensor(5.)\n",
      "tensor(1.)\n"
     ]
    }
   ],
   "source": [
    "import torch\n",
    "a=torch.tensor([1.0,2.0,3.0,4.0,5.0])\n",
    "print(a[4])\n",
    "print(a[0])"
   ]
  },
  {
   "cell_type": "code",
   "execution_count": null,
   "id": "31f8953f-94d0-4fba-b331-690695f705fe",
   "metadata": {},
   "outputs": [],
   "source": [
    "Accessing of Tensor's elements with the specified range\n",
    "\n",
    "It is quite simple to access elements of specified range by passing the starting index or ending index of elements separated with a colon (:). \n",
    "It will skip starting index element and print elements till ending index."
   ]
  },
  {
   "cell_type": "code",
   "execution_count": 6,
   "id": "5dabe439-ae30-4c93-abd2-0422c86c24e1",
   "metadata": {},
   "outputs": [
    {
     "name": "stdout",
     "output_type": "stream",
     "text": [
      "tensor([1, 2, 3, 4])\n",
      "tensor([1, 2, 3])\n",
      "tensor([1, 2])\n",
      "tensor([1])\n",
      "tensor(1)\n",
      "tensor(1)\n",
      "tensor(2)\n",
      "tensor(3)\n",
      "tensor(4)\n"
     ]
    }
   ],
   "source": [
    "import torch\n",
    "a=torch.tensor([1,2,3,4])\n",
    "print(a[0:4])\n",
    "print(a[0:3])\n",
    "print(a[0:2])\n",
    "print(a[0:1])\n",
    "print(a[0])\n",
    "print(a[0])\n",
    "print(a[1])\n",
    "print(a[2])\n",
    "print(a[3])"
   ]
  },
  {
   "cell_type": "code",
   "execution_count": null,
   "id": "8efae429-b81c-43a0-b7c7-de33bce9794a",
   "metadata": {},
   "outputs": [],
   "source": [
    "Creating of Floating Point Tensor using Integer elements\n",
    "We can create a floating point Tensor using integer element. In this, we use FloatTensor property of torch is used."
   ]
  },
  {
   "cell_type": "code",
   "execution_count": 7,
   "id": "a234147c-5a53-4824-b9a3-53af0d73f9b0",
   "metadata": {},
   "outputs": [
    {
     "name": "stdout",
     "output_type": "stream",
     "text": [
      "tensor([ 1,  2,  3,  4,  5,  6,  7,  8,  9, 10])\n"
     ]
    }
   ],
   "source": [
    "import torch as th\n",
    "a=th.tensor([1,2,3,4,5,6,7,8,9,10])\n",
    "print(a)"
   ]
  },
  {
   "cell_type": "code",
   "execution_count": 9,
   "id": "f528f487-e919-4fdc-8597-858655d1f261",
   "metadata": {},
   "outputs": [
    {
     "name": "stdout",
     "output_type": "stream",
     "text": [
      "tensor([ 1.,  2.,  3.,  4.,  5.,  6.,  7.,  8.,  9., 10.])\n"
     ]
    }
   ],
   "source": [
    "import torch as th\n",
    "a=th.FloatTensor([1,2,3,4,5,6,7,8,9,10])\n",
    "print(a)"
   ]
  },
  {
   "cell_type": "code",
   "execution_count": null,
   "id": "941d605a-7789-4d7e-94ea-d36f7a53ead0",
   "metadata": {},
   "outputs": [],
   "source": [
    "Finding size of the Tensor\n",
    "Just like one dimensional metrics, we can find the size of Tensor also. We use size() method of Tensor to get the size."
   ]
  },
  {
   "cell_type": "code",
   "execution_count": 11,
   "id": "13500d65-4df9-47a7-9140-15749561d46a",
   "metadata": {},
   "outputs": [
    {
     "name": "stdout",
     "output_type": "stream",
     "text": [
      "torch.Size([10])\n"
     ]
    }
   ],
   "source": [
    "import torch\n",
    "a=torch.tensor([1,2,3,4,5,6,7,8,9,10])\n",
    "print(a.size())"
   ]
  },
  {
   "cell_type": "code",
   "execution_count": null,
   "id": "81d09a11-472d-401a-858b-45880aa59c13",
   "metadata": {},
   "outputs": [],
   "source": [
    "Change view of Tensor\n",
    "\n",
    "Tensor has the property by which we can change the view of the Tensor.\n",
    "Changing view means if a tensor is one dimensional (one row and one column) and \n",
    "we want to change its view by six rows and one column.Changes can be done with the help of view() of Tensor. \n",
    "It is similar to the reshape () of an array."
   ]
  },
  {
   "cell_type": "code",
   "execution_count": 14,
   "id": "3ccf31e1-e7b5-4adf-a010-0021a33dc3f1",
   "metadata": {},
   "outputs": [
    {
     "name": "stdout",
     "output_type": "stream",
     "text": [
      "tensor([1, 2, 3, 4, 5, 6])\n"
     ]
    },
    {
     "data": {
      "text/plain": [
       "tensor([[1],\n",
       "        [2],\n",
       "        [3],\n",
       "        [4],\n",
       "        [5],\n",
       "        [6]])"
      ]
     },
     "execution_count": 14,
     "metadata": {},
     "output_type": "execute_result"
    }
   ],
   "source": [
    "import torch\n",
    "a=torch.tensor([1,2,3,4,5,6])\n",
    "print(a)\n",
    "a.view(6,1)"
   ]
  },
  {
   "cell_type": "code",
   "execution_count": 15,
   "id": "211da8d1-a184-4400-987e-58e1f076e68c",
   "metadata": {},
   "outputs": [
    {
     "name": "stdout",
     "output_type": "stream",
     "text": [
      "tensor([ 1.,  2.,  3.,  4.,  5.,  6.,  7.,  8.,  9., 10.])\n"
     ]
    },
    {
     "data": {
      "text/plain": [
       "tensor([[ 1.],\n",
       "        [ 2.],\n",
       "        [ 3.],\n",
       "        [ 4.],\n",
       "        [ 5.],\n",
       "        [ 6.],\n",
       "        [ 7.],\n",
       "        [ 8.],\n",
       "        [ 9.],\n",
       "        [10.]])"
      ]
     },
     "execution_count": 15,
     "metadata": {},
     "output_type": "execute_result"
    }
   ],
   "source": [
    "import torch\n",
    "a=torch.FloatTensor([1,2,3,4,5,6,7,8,9,10])\n",
    "print(a)\n",
    "a.view(10,1)"
   ]
  },
  {
   "cell_type": "code",
   "execution_count": null,
   "id": "1eb328d4-6703-42fc-99ee-5ba008da860c",
   "metadata": {},
   "outputs": [],
   "source": [
    "Tensor using numpy array\n",
    "\n",
    "We can also create Tensor using numpy array. We have to convert the numpy array into Tensor with the help of from_numpy () of the torch. \n",
    "For this, we first have to initialize numpy and then create a numpy array."
   ]
  },
  {
   "cell_type": "code",
   "execution_count": 16,
   "id": "987d244c-641e-4a72-8fce-0101d0ad9f55",
   "metadata": {},
   "outputs": [
    {
     "name": "stdout",
     "output_type": "stream",
     "text": [
      "tensor([1, 2, 3, 4, 5, 6], dtype=torch.int32)\n",
      "torch.IntTensor\n"
     ]
    }
   ],
   "source": [
    "import torch\n",
    "import numpy as np\n",
    "a=np.array([1,2,3,4,5,6])\n",
    "b=torch.from_numpy(a)\n",
    "print(b)\n",
    "print(b.type())"
   ]
  },
  {
   "cell_type": "code",
   "execution_count": null,
   "id": "35183708-7377-4063-b7af-7d8b126d2b7a",
   "metadata": {},
   "outputs": [],
   "source": [
    "Dotproduct and linspace"
   ]
  },
  {
   "cell_type": "code",
   "execution_count": 22,
   "id": "c2ed1491-aa75-4372-bbdf-add3d93de071",
   "metadata": {},
   "outputs": [
    {
     "name": "stdout",
     "output_type": "stream",
     "text": [
      "tensor(32)\n",
      "tensor([2.0000, 5.5000, 9.0000])\n"
     ]
    }
   ],
   "source": [
    "import torch\n",
    "a=torch.tensor([1,2,3])\n",
    "b=torch.tensor([4,5,6])\n",
    "c=torch.dot(a,b)\n",
    "print(c)\n",
    "d=torch.linspace(2,9,steps=3)\n",
    "print(d)"
   ]
  },
  {
   "cell_type": "code",
   "execution_count": 23,
   "id": "cb0255b1-b704-4825-b7ff-c21c5835c419",
   "metadata": {},
   "outputs": [
    {
     "name": "stdout",
     "output_type": "stream",
     "text": [
      "tensor(32)\n",
      "tensor([2.0000, 2.7778, 3.5556, 4.3333, 5.1111, 5.8889, 6.6667, 7.4444, 8.2222,\n",
      "        9.0000])\n"
     ]
    }
   ],
   "source": [
    "import torch\n",
    "a=torch.tensor([1,2,3])\n",
    "b=torch.tensor([4,5,6])\n",
    "c=torch.dot(a,b)\n",
    "print(c)\n",
    "d=torch.linspace(2,9,steps=10)\n",
    "print(d)"
   ]
  },
  {
   "cell_type": "code",
   "execution_count": 24,
   "id": "c461d4e8-1441-4078-b698-7a5667fdb3b3",
   "metadata": {},
   "outputs": [
    {
     "name": "stdout",
     "output_type": "stream",
     "text": [
      "tensor(32)\n",
      "tensor([2.0000, 2.0707, 2.1414, 2.2121, 2.2828, 2.3535, 2.4242, 2.4949, 2.5657,\n",
      "        2.6364, 2.7071, 2.7778, 2.8485, 2.9192, 2.9899, 3.0606, 3.1313, 3.2020,\n",
      "        3.2727, 3.3434, 3.4141, 3.4848, 3.5556, 3.6263, 3.6970, 3.7677, 3.8384,\n",
      "        3.9091, 3.9798, 4.0505, 4.1212, 4.1919, 4.2626, 4.3333, 4.4040, 4.4747,\n",
      "        4.5455, 4.6162, 4.6869, 4.7576, 4.8283, 4.8990, 4.9697, 5.0404, 5.1111,\n",
      "        5.1818, 5.2525, 5.3232, 5.3939, 5.4646, 5.5354, 5.6061, 5.6768, 5.7475,\n",
      "        5.8182, 5.8889, 5.9596, 6.0303, 6.1010, 6.1717, 6.2424, 6.3131, 6.3838,\n",
      "        6.4545, 6.5253, 6.5960, 6.6667, 6.7374, 6.8081, 6.8788, 6.9495, 7.0202,\n",
      "        7.0909, 7.1616, 7.2323, 7.3030, 7.3737, 7.4444, 7.5152, 7.5859, 7.6566,\n",
      "        7.7273, 7.7980, 7.8687, 7.9394, 8.0101, 8.0808, 8.1515, 8.2222, 8.2929,\n",
      "        8.3636, 8.4343, 8.5051, 8.5758, 8.6465, 8.7172, 8.7879, 8.8586, 8.9293,\n",
      "        9.0000])\n"
     ]
    }
   ],
   "source": [
    "import torch\n",
    "a=torch.tensor([1,2,3])\n",
    "b=torch.tensor([4,5,6])\n",
    "c=torch.dot(a,b)\n",
    "print(c)\n",
    "d=torch.linspace(2,9,steps=100)\n",
    "print(d)"
   ]
  },
  {
   "cell_type": "code",
   "execution_count": null,
   "id": "d39d464c-b758-46d7-900b-8bffd0989d56",
   "metadata": {},
   "outputs": [],
   "source": [
    "Plotting a function on the two-dimensional coordinate system\n",
    "\n",
    "The linspace function can come in use when plotting a function on two-dimensional coordinate systems. \n",
    "For the x-axis, we create a land space from 0 to 10 in an interval of 2.5, and Y will be the function of each x value. \n",
    "For example, we can find the exponential of each x value for y.\n",
    "\n",
    "Now, we are plotting x and y data using Map plot lib library, which is a visualization library for data analysis."
   ]
  },
  {
   "cell_type": "code",
   "execution_count": 26,
   "id": "7f0b21e7-cdf9-478e-afd7-d794ae67d17e",
   "metadata": {},
   "outputs": [
    {
     "data": {
      "image/png": "[encoded data removed]",
      "text/plain": [
       "<Figure size 432x288 with 1 Axes>"
      ]
     },
     "metadata": {
      "needs_background": "light"
     },
     "output_type": "display_data"
    }
   ],
   "source": [
    "import torch\n",
    "import numpy as np\n",
    "import matplotlib.pyplot as plt\n",
    "x=torch.linspace(0,50,100)\n",
    "y=torch.exp(x)\n",
    "plt.plot(x.numpy(),y.numpy())\n",
    "plt.show()"
   ]
  },
  {
   "cell_type": "code",
   "execution_count": 27,
   "id": "53ef81f8-863f-45d4-94e7-5776a85da3f3",
   "metadata": {},
   "outputs": [
    {
     "data": {
      "image/png": "[encoded data removed]",
      "text/plain": [
       "<Figure size 432x288 with 1 Axes>"
      ]
     },
     "metadata": {
      "needs_background": "light"
     },
     "output_type": "display_data"
    }
   ],
   "source": [
    "import torch\n",
    "import numpy as np\n",
    "import matplotlib.pyplot as plt\n",
    "x=torch.linspace(0,10,100)\n",
    "y=torch.exp(x)\n",
    "plt.plot(x.numpy(),y.numpy())\n",
    "plt.show()"
   ]
  },
  {
   "cell_type": "code",
   "execution_count": null,
   "id": "71a8202d-1d29-4f78-a6a0-b62ed5319acb",
   "metadata": {},
   "outputs": [],
   "source": [
    "Two Dimensional Tensor\n",
    "Two-dimensional tensor is similar to the two-dimensional metrics. A two-dimensional metrics have n number of rows and n number of columns. \n",
    "Similarly, two-dimensional tensor has n rows and n columns also.\n",
    "\n",
    "A two-dimensional tensor has the following representation\n",
    "\n",
    "Two Dimensional Tensor\n",
    "A gray scalar image is a two-dimensional matrix of pixels. \n",
    "Each pixels intensity denoted by a numeric value that ranges from 0 to 255 such that intensity value of 0 \n",
    "indicates no intensity something being completely black and 255 representing of maximum intensity something being completely white. \n",
    "We can store this two-dimensional grid of values.\n",
    "\n",
    "Two Dimensional Tensor\n",
    "Creating two-dimensional tensor\n",
    "For creating a two-dimensional tensor, you have first to create a one-dimensional tensor using arrange () method of the torch. \n",
    "This method contains two parameters of integer type. This method arranges the elements in tensor as per the given parameters. \n",
    "Once your one-dimensional tensor is created, then our next step is to change its view in two-dimensional form\n",
    "and store this view in the two-dimensional type of variable."
   ]
  },
  {
   "cell_type": "code",
   "execution_count": 28,
   "id": "ff9c897e-3e5b-41ff-a2f2-23da3fa29750",
   "metadata": {},
   "outputs": [],
   "source": [
    "import torch"
   ]
  },
  {
   "cell_type": "code",
   "execution_count": 29,
   "id": "e8145e7a-718e-4772-ac99-52bbe8c53c94",
   "metadata": {},
   "outputs": [
    {
     "name": "stdout",
     "output_type": "stream",
     "text": [
      "tensor([0, 1, 2, 3, 4, 5, 6, 7, 8])\n",
      "tensor([[0, 1, 2],\n",
      "        [3, 4, 5],\n",
      "        [6, 7, 8]])\n"
     ]
    }
   ],
   "source": [
    "x=torch.arange(0,9)\n",
    "print(x)\n",
    "y=x.view(3,3)\n",
    "print(y)"
   ]
  },
  {
   "cell_type": "code",
   "execution_count": 35,
   "id": "a5d81ecd-56cc-4d2e-9151-8d329eb7cc83",
   "metadata": {},
   "outputs": [
    {
     "name": "stdout",
     "output_type": "stream",
     "text": [
      "tensor([0, 1, 2, 3, 4, 5, 6, 7, 8])\n",
      "tensor([[0, 1, 2],\n",
      "        [3, 4, 5],\n",
      "        [6, 7, 8]])\n",
      "1\n",
      "2\n"
     ]
    }
   ],
   "source": [
    "import torch\n",
    "x=torch.arange(0,9)\n",
    "print(x)\n",
    "y=x.view(3,3)\n",
    "print(y)\n",
    "print(x.dim())\n",
    "print(y.dim())"
   ]
  },
  {
   "cell_type": "code",
   "execution_count": null,
   "id": "97719f31-7076-48c1-a6bf-adeec856f5f2",
   "metadata": {},
   "outputs": [],
   "source": [
    "Accessing two-dimensional tensor elements\n",
    "Let see an example of two-dimensional tensor to understand how to access a particular element from two-dimensional tensor using index."
   ]
  },
  {
   "cell_type": "code",
   "execution_count": 36,
   "id": "a1899b22-da67-4ed0-8cec-738335673c0e",
   "metadata": {},
   "outputs": [
    {
     "name": "stdout",
     "output_type": "stream",
     "text": [
      "tensor([0, 1, 2, 3, 4, 5, 6, 7, 8])\n",
      "tensor([[0, 1, 2],\n",
      "        [3, 4, 5],\n",
      "        [6, 7, 8]])\n"
     ]
    },
    {
     "data": {
      "text/plain": [
       "tensor([6, 7, 8])"
      ]
     },
     "execution_count": 36,
     "metadata": {},
     "output_type": "execute_result"
    }
   ],
   "source": [
    "import torch\n",
    "x=torch.arange(0,9)\n",
    "print(x)\n",
    "y=x.view(3,3)\n",
    "print(y)\n",
    "y[2]"
   ]
  },
  {
   "cell_type": "code",
   "execution_count": null,
   "id": "f068c999-8dff-4b8c-8201-f856e9689914",
   "metadata": {},
   "outputs": [],
   "source": [
    "Tensors Multiplication"
   ]
  },
  {
   "cell_type": "code",
   "execution_count": 39,
   "id": "783a8518-77c2-462a-ad83-8d570fe4919e",
   "metadata": {},
   "outputs": [
    {
     "name": "stdout",
     "output_type": "stream",
     "text": [
      "tensor([[2, 4, 6],\n",
      "        [8, 1, 3],\n",
      "        [5, 7, 9]])\n",
      "tensor([[2, 4, 6],\n",
      "        [8, 1, 3],\n",
      "        [5, 7, 9]])\n",
      "tensor([[ 66,  54,  78],\n",
      "        [ 39,  54,  78],\n",
      "        [111,  90, 132]])\n"
     ]
    }
   ],
   "source": [
    "import torch\n",
    "a=torch.tensor([2,4,6,8,1,3,5,7,9])\n",
    "a=a.view(3,3)\n",
    "b=torch.tensor([2,4,6,8,1,3,5,7,9])\n",
    "b=b.view(3,3)\n",
    "print(a)\n",
    "print(b)\n",
    "c=torch.matmul(a,b)\n",
    "print(c)"
   ]
  },
  {
   "cell_type": "code",
   "execution_count": null,
   "id": "0095c585-651a-41ae-8a6a-842fa4d03f32",
   "metadata": {},
   "outputs": [],
   "source": [
    "Three Dimensional Tensor\n",
    "Three-dimensional tensor is made with the help of view () method. A three-dimensional tensor has the following structure\n",
    "\n",
    "Two Dimensional Tensor\n",
    "Accessing element from 3D- Tensor\n",
    "Accessing elements from the 3D-tensor is quite easy. It will be done using the index."
   ]
  },
  {
   "cell_type": "code",
   "execution_count": 41,
   "id": "37d2e1fb-c0fe-4937-a307-020a5dd04c31",
   "metadata": {},
   "outputs": [
    {
     "name": "stdout",
     "output_type": "stream",
     "text": [
      "tensor([ 0,  1,  2,  3,  4,  5,  6,  7,  8,  9, 10, 11, 12, 13, 14, 15, 16, 17])\n",
      "tensor(10)\n"
     ]
    }
   ],
   "source": [
    "import torch\n",
    "x=torch.arange(18)\n",
    "print(x)\n",
    "y=x.view(3,2,3)\n",
    "print(y[1,1,1])"
   ]
  },
  {
   "cell_type": "code",
   "execution_count": null,
   "id": "dc37632c-2b8e-4a5d-a8cc-5394ab9f085b",
   "metadata": {},
   "outputs": [],
   "source": [
    "Slicing of three-dimensional tensor\n",
    "Segment slices are very similar to how we would slice a one-dimensional tensor. Slicing a \n",
    "tensor means to slice the elements of a tensor into a new tensor, or we can say slicing is a process of creating a new tensor by dividing a tensor."
   ]
  },
  {
   "cell_type": "code",
   "execution_count": 42,
   "id": "42192d8f-08d1-4024-bd7e-5e26379cde9d",
   "metadata": {},
   "outputs": [
    {
     "name": "stdout",
     "output_type": "stream",
     "text": [
      "tensor([ 0,  1,  2,  3,  4,  5,  6,  7,  8,  9, 10, 11, 12, 13, 14, 15, 16, 17])\n",
      "tensor([[[ 0,  1,  2],\n",
      "         [ 3,  4,  5]],\n",
      "\n",
      "        [[ 6,  7,  8],\n",
      "         [ 9, 10, 11]],\n",
      "\n",
      "        [[12, 13, 14],\n",
      "         [15, 16, 17]]])\n",
      "tensor([[ 6,  7,  8],\n",
      "        [ 9, 10, 11]])\n"
     ]
    }
   ],
   "source": [
    "import torch \n",
    "x=torch.arange(18)\n",
    "print(x)\n",
    "y=x.view(3,2,3)\n",
    "print(y)\n",
    "print(y[1,0:2,0:3])"
   ]
  },
  {
   "cell_type": "code",
   "execution_count": 1,
   "id": "3f0c9b1d-0fde-427a-877e-3582e5121844",
   "metadata": {},
   "outputs": [
    {
     "name": "stdout",
     "output_type": "stream",
     "text": [
      "tensor([ 0,  1,  2,  3,  4,  5,  6,  7,  8,  9, 10, 11, 12, 13, 14, 15, 16, 17,\n",
      "        18, 19])\n"
     ]
    }
   ],
   "source": [
    "import torch\n",
    "x=torch.arange(20)\n",
    "print(x)"
   ]
  },
  {
   "cell_type": "code",
   "execution_count": null,
   "id": "19bed2c7-dd47-48b1-a2ab-04f04f020266",
   "metadata": {},
   "outputs": [],
   "source": []
  }
 ],
 "metadata": {
  "kernelspec": {
   "display_name": "Python 3 (ipykernel)",
   "language": "python",
   "name": "python3"
  },
  "language_info": {
   "codemirror_mode": {
    "name": "ipython",
    "version": 3
   },
   "file_extension": ".py",
   "mimetype": "text/x-python",
   "name": "python",
   "nbconvert_exporter": "python",
   "pygments_lexer": "ipython3",
   "version": "3.9.12"
  }
 },
 "nbformat": 4,
 "nbformat_minor": 5
}
