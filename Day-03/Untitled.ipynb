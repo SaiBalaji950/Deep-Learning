{
 "cells": [
  {
   "cell_type": "code",
   "execution_count": null,
   "id": "902009b9-6b0d-4405-8ade-f802b945b1c9",
   "metadata": {},
   "outputs": [],
   "source": [
    "Deep Learning \n",
    "\n",
    "\n",
    "Deep Learning is a Subset of Machine Learning(ML) inspired by the structure and functionalities of the human brain.\n",
    "It Involves many neurons with many layers(hence deep) to automatically extract complex features from data."
   ]
  },
  {
   "cell_type": "code",
   "execution_count": null,
   "id": "2d6f41d8-7ccb-4f20-aa76-70c3da9aaab9",
   "metadata": {},
   "outputs": [],
   "source": [
    "Core Concepts of Deep Learning\n",
    "\n",
    "Neural Networks:\n",
    "The Structure of the Neural Network is Composed of an input layer, one or more hidden layers and an output layer.\n",
    "The Neuron of the Neural Networks is The Fundamental units, passes inputs, applies a weights, adds a biasand passes through an activation\n",
    "function.\n",
    "\n",
    "Features of Deep Learning\n",
    "\n",
    "1) Handles large and complex datasets.\n",
    "2) Requires High Computational Power like GPUs(Graphical Processing Unit).\n",
    "3) Learns Hierarchical Representation of Data.\n",
    "\n",
    "Applications of Deep Learning\n",
    "\n",
    "1) Image Recognition\n",
    "2) Speech Processing\n",
    "3) Natural Language Understanding\n",
    "4) Self Driven Cars"
   ]
  },
  {
   "cell_type": "code",
   "execution_count": null,
   "id": "7ed1b97d-92f1-4853-9021-5304e905b200",
   "metadata": {},
   "outputs": [],
   "source": [
    "Architecture of Deep Learning\n",
    "\n",
    "1) Input layer\n",
    "\n",
    "Accepts the raw data(i.e pixels for images and text tokens for NLP). and the raw date is passes through from input layer to hidden layer.\n",
    "                                                                                                       \n",
    "2) Hidden Layer\n",
    "\n",
    "Receives the data from input layer and it is not visible and it passes the weights,bias and activation functions and more layers allows the \n",
    "model to learn more complex data and complex patterns.\n",
    "\n",
    "3) Output Layer\n",
    "\n",
    "It is final prediction from the input."
   ]
  },
  {
   "cell_type": "code",
   "execution_count": null,
   "id": "6c711b14-a0a0-4845-8832-1508d3ef2c83",
   "metadata": {},
   "outputs": [],
   "source": [
    "How Deep Learning Works\n",
    "\n",
    "1) Feed-Forward Propogation\n",
    "\n",
    "It involves the input layers through hidden layers to output layer.\n",
    "Each neuron completes a weighted sum of inputs, adds a bias and applies an activation functions.\n",
    "\n",
    "2) Loss Function:\n",
    "\n",
    "Quantifies the Error in application.\n",
    "Cross-Entropy for Classification and Mean Squared Error for Regression.\n",
    "\n",
    "3) BackPropogation:\n",
    "\n",
    "Adjusts Weights using gradient of the loss function with respect to the weights(using chanin rule).\n",
    "\n",
    "4) Optimization:\n",
    "\n",
    "By using Stochastic Gradient Descent(SGD) or Adam(Adaptive moment Estimation) to minimize the loss functions.\n",
    "\n",
    "5) Epochs and Batches\n",
    "\n",
    "To improve our model or dataset is passes multiple times i.e for suppose if epochs=10 our dataset will be passed 10 times \n",
    "to improve our model is called Epochs. Data is Processed with small chunks is called Batches."
   ]
  },
  {
   "cell_type": "code",
   "execution_count": null,
   "id": "a30fd153-665d-4eb0-88cd-da140de39e2d",
   "metadata": {},
   "outputs": [],
   "source": [
    "Types of Deep Learning Neural Networks\n",
    "\n",
    "1) FeedForward Neural Networks\n",
    "2) Recurrent Neural Networks\n",
    "3) COnvolutional Neural Networks\n",
    "4) Restricted Boltzmann Machines\n",
    "5) AutoEncoders"
   ]
  },
  {
   "cell_type": "code",
   "execution_count": null,
   "id": "5374945d-3485-458e-a37c-ace0b8a61da4",
   "metadata": {},
   "outputs": [],
   "source": []
  }
 ],
 "metadata": {
  "kernelspec": {
   "display_name": "Python 3 (ipykernel)",
   "language": "python",
   "name": "python3"
  },
  "language_info": {
   "codemirror_mode": {
    "name": "ipython",
    "version": 3
   },
   "file_extension": ".py",
   "mimetype": "text/x-python",
   "name": "python",
   "nbconvert_exporter": "python",
   "pygments_lexer": "ipython3",
   "version": "3.13.0"
  }
 },
 "nbformat": 4,
 "nbformat_minor": 5
}
