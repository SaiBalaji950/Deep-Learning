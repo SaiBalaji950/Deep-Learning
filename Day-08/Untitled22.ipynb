{
 "cells": [
  {
   "cell_type": "code",
   "execution_count": null,
   "id": "5daa96a5-399d-44d2-a1ef-377a83f022ca",
   "metadata": {},
   "outputs": [],
   "source": [
    "ResNet we use ResNet as ResNet50"
   ]
  },
  {
   "cell_type": "code",
   "execution_count": 1,
   "id": "cdc9e935-5f89-4d9c-a696-8f29bba8281a",
   "metadata": {},
   "outputs": [
    {
     "name": "stdout",
     "output_type": "stream",
     "text": [
      "572/572 [==============================] - 3612s 6s/step - loss: 0.3010 - accuracy: 0.9156 - val_loss: 0.1565 - val_accuracy: 0.9486\n",
      "313/313 [==============================] - 38s 123ms/step - loss: 0.1441 - accuracy: 0.9529\n",
      "Loss: 0.14405544102191925, Accuracy: 0.9528999924659729\n"
     ]
    }
   ],
   "source": [
    "import tensorflow as tf\n",
    "from tensorflow.keras.models import Sequential\n",
    "from tensorflow.keras.layers import Dense,Conv2D,MaxPooling2D,Flatten,Dropout,AveragePooling2D\n",
    "from tensorflow.keras.applications import ResNet50\n",
    "from tensorflow.keras.datasets import mnist\n",
    "from tensorflow.keras.utils import to_categorical\n",
    "(x_train,y_train),(x_test,y_test)=mnist.load_data()\n",
    "x_train=tf.image.grayscale_to_rgb(tf.image.resize(x_train[...,tf.newaxis],(32,32))).numpy()\n",
    "x_test=tf.image.grayscale_to_rgb(tf.image.resize(x_test[...,tf.newaxis],(32,32))).numpy()\n",
    "x_train=x_train.astype('float32')/255\n",
    "x_test=x_test.astype('float32')/255\n",
    "y_train=to_categorical(y_train,10)\n",
    "\n",
    "y_test=to_categorical(y_test,10)\n",
    "models=ResNet50(include_top=False,input_shape=(32,32,3),weights=None)\n",
    "model=Sequential([models,Flatten(),\n",
    "                  Dense(256,activation='relu'),\n",
    "                  Dense(10,activation='softmax')])\n",
    "model.compile(optimizer='adam',loss='categorical_crossentropy',metrics=['accuracy'])\n",
    "model.fit(x_train,y_train,epochs=1,batch_size=84,validation_split=0.2)\n",
    "loss,accuracy=model.evaluate(x_test,y_test)\n",
    "print(f'Loss: {loss}, Accuracy: {accuracy}')"
   ]
  },
  {
   "cell_type": "code",
   "execution_count": null,
   "id": "c25d056d-464f-48e8-83cd-35fd737ee961",
   "metadata": {},
   "outputs": [],
   "source": [
    "Densenet, we use DenseNet as DenseNet121"
   ]
  },
  {
   "cell_type": "code",
   "execution_count": 3,
   "id": "4015b911-7a2c-4bf8-9de5-4f0c40004c48",
   "metadata": {},
   "outputs": [
    {
     "name": "stdout",
     "output_type": "stream",
     "text": [
      "477/477 [==============================] - 740s 1s/step - loss: 1.5069 - accuracy: 0.4480 - val_loss: 2.3579 - val_accuracy: 0.2599\n",
      "313/313 [==============================] - 57s 181ms/step - loss: 2.3189 - accuracy: 0.2704\n",
      "Loss: 2.3189029693603516, Accuracy: 0.2703999876976013\n"
     ]
    }
   ],
   "source": [
    "import tensorflow as tf\n",
    "from tensorflow.keras.models import Sequential\n",
    "from tensorflow.keras.layers import Dense,Conv2D,MaxPooling2D,AveragePooling2D,Flatten,Dropout\n",
    "from tensorflow.keras.applications import DenseNet121\n",
    "from tensorflow.keras.datasets import cifar10\n",
    "from tensorflow.keras.utils import to_categorical\n",
    "(x_train,y_train),(x_test,y_test)=cifar10.load_data()\n",
    "x_train=x_train.astype('float32')/255\n",
    "x_test=x_test.astype('float32')/255\n",
    "y_train=to_categorical(y_train,10)\n",
    "y_test=to_categorical(y_test,10)\n",
    "models=DenseNet121(include_top=False,input_shape=(32,32,3),weights=None)\n",
    "model=Sequential([models,Flatten(),\n",
    "                  Dense(256,activation='relu'),\n",
    "                  Dense(10,activation='softmax')])\n",
    "model.compile(optimizer='adam',loss='categorical_crossentropy',metrics=['accuracy'])\n",
    "model.fit(x_train,y_train,epochs=1,batch_size=84,validation_split=0.2)\n",
    "loss,accuracy=model.evaluate(x_test,y_test)\n",
    "print(f'Loss: {loss}, Accuracy: {accuracy}')"
   ]
  },
  {
   "cell_type": "code",
   "execution_count": null,
   "id": "3278e4a8-105d-4493-983b-933cddb4b8ce",
   "metadata": {},
   "outputs": [],
   "source": []
  }
 ],
 "metadata": {
  "kernelspec": {
   "display_name": "Python 3 (ipykernel)",
   "language": "python",
   "name": "python3"
  },
  "language_info": {
   "codemirror_mode": {
    "name": "ipython",
    "version": 3
   },
   "file_extension": ".py",
   "mimetype": "text/x-python",
   "name": "python",
   "nbconvert_exporter": "python",
   "pygments_lexer": "ipython3",
   "version": "3.9.12"
  }
 },
 "nbformat": 4,
 "nbformat_minor": 5
}
