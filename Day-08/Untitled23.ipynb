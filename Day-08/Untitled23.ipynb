{
 "cells": [
  {
   "cell_type": "code",
   "execution_count": null,
   "id": "1546624d-5b16-4a7c-b2a6-8f239899c1cb",
   "metadata": {},
   "outputs": [],
   "source": [
    "GoogleNet we used as InceptionV3"
   ]
  },
  {
   "cell_type": "code",
   "execution_count": 1,
   "id": "0a583c33-c7fc-4797-9bf7-226cd20ae8b2",
   "metadata": {},
   "outputs": [
    {
     "name": "stdout",
     "output_type": "stream",
     "text": [
      "477/477 [==============================] - 1261s 3s/step - loss: 1.6324 - accuracy: 0.3999 - val_loss: 2.2307 - val_accuracy: 0.3388\n",
      "313/313 [==============================] - 35s 111ms/step - loss: 2.2040 - accuracy: 0.3458\n",
      "Loss: 2.203974962234497, Accuracy: 0.3458000123500824\n"
     ]
    }
   ],
   "source": [
    "import tensorflow as tf\n",
    "from tensorflow.keras.layers import Dense,Conv2D,MaxPooling2D,AveragePooling2D,Flatten,Dropout\n",
    "from tensorflow.keras.models import Sequential\n",
    "from tensorflow.keras.applications import InceptionV3\n",
    "from tensorflow.keras.datasets import cifar10\n",
    "from tensorflow.keras.utils import to_categorical\n",
    "(x_train,y_train),(x_test,y_test)=cifar10.load_data()\n",
    "x_train=tf.image.resize(x_train,(75,75)).numpy()\n",
    "x_test=tf.image.resize(x_test,(75,75)).numpy()\n",
    "x_train=x_train.astype('float32')/255\n",
    "x_test=x_test.astype('float32')/255\n",
    "y_train=to_categorical(y_train,10)\n",
    "y_test=to_categorical(y_test,10)\n",
    "models=InceptionV3(include_top=False,input_shape=(75,75,3),weights=None)\n",
    "model=Sequential([models,Flatten(),\n",
    "                  Dense(256,activation='relu'),\n",
    "                  Dense(10,activation='softmax')])\n",
    "model.compile(optimizer='adam',loss='categorical_crossentropy',metrics=['accuracy'])\n",
    "model.fit(x_train,y_train,epochs=1,batch_size=84,validation_split=0.2)\n",
    "loss,accuracy=model.evaluate(x_test,y_test)\n",
    "print(f'Loss: {loss}, Accuracy: {accuracy}')"
   ]
  },
  {
   "cell_type": "code",
   "execution_count": null,
   "id": "3926e6df-061e-4db6-9cd6-574b1eefa09a",
   "metadata": {},
   "outputs": [],
   "source": []
  }
 ],
 "metadata": {
  "kernelspec": {
   "display_name": "base",
   "language": "python",
   "name": "python3"
  },
  "language_info": {
   "codemirror_mode": {
    "name": "ipython",
    "version": 3
   },
   "file_extension": ".py",
   "mimetype": "text/x-python",
   "name": "python",
   "nbconvert_exporter": "python",
   "pygments_lexer": "ipython3",
   "version": "3.9.12"
  }
 },
 "nbformat": 4,
 "nbformat_minor": 5
}
