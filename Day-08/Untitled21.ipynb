{
 "cells": [
  {
   "cell_type": "code",
   "execution_count": null,
   "id": "6bd2b0f9-0d28-48e4-b8ed-9e2a5a9ccbf9",
   "metadata": {},
   "outputs": [],
   "source": [
    "In Previous Notebook we used in CNN Architectures without names now we are using the CNN architectures in the code\n",
    "along with the parameters."
   ]
  },
  {
   "cell_type": "code",
   "execution_count": null,
   "id": "a9816fc0-c811-41af-af9d-ebf5d322c729",
   "metadata": {},
   "outputs": [],
   "source": [
    "LeNet"
   ]
  },
  {
   "cell_type": "code",
   "execution_count": 4,
   "id": "bd67d167-87cb-4166-9908-121cf8742ffe",
   "metadata": {},
   "outputs": [
    {
     "name": "stdout",
     "output_type": "stream",
     "text": [
      "Epoch 1/10\n",
      "1250/1250 [==============================] - 27s 21ms/step - loss: 1.6268 - accuracy: 0.4052 - val_loss: 1.4746 - val_accuracy: 0.4662\n",
      "Epoch 2/10\n",
      "1250/1250 [==============================] - 24s 19ms/step - loss: 1.3449 - accuracy: 0.5195 - val_loss: 1.2764 - val_accuracy: 0.5487\n",
      "Epoch 3/10\n",
      "1250/1250 [==============================] - 24s 19ms/step - loss: 1.2086 - accuracy: 0.5657 - val_loss: 1.2925 - val_accuracy: 0.5422\n",
      "Epoch 4/10\n",
      "1250/1250 [==============================] - 25s 20ms/step - loss: 1.1194 - accuracy: 0.6002 - val_loss: 1.1407 - val_accuracy: 0.5994\n",
      "Epoch 5/10\n",
      "1250/1250 [==============================] - 25s 20ms/step - loss: 1.0376 - accuracy: 0.6308 - val_loss: 1.1551 - val_accuracy: 0.5868\n",
      "Epoch 6/10\n",
      "1250/1250 [==============================] - 25s 20ms/step - loss: 0.9720 - accuracy: 0.6546 - val_loss: 1.1128 - val_accuracy: 0.6131\n",
      "Epoch 7/10\n",
      "1250/1250 [==============================] - 25s 20ms/step - loss: 0.9099 - accuracy: 0.6773 - val_loss: 1.1085 - val_accuracy: 0.6183\n",
      "Epoch 8/10\n",
      "1250/1250 [==============================] - 25s 20ms/step - loss: 0.8599 - accuracy: 0.6941 - val_loss: 1.1014 - val_accuracy: 0.6234\n",
      "Epoch 9/10\n",
      "1250/1250 [==============================] - 25s 20ms/step - loss: 0.8103 - accuracy: 0.7118 - val_loss: 1.0966 - val_accuracy: 0.6321\n",
      "Epoch 10/10\n",
      "1250/1250 [==============================] - 25s 20ms/step - loss: 0.7579 - accuracy: 0.7301 - val_loss: 1.1272 - val_accuracy: 0.6317\n",
      "313/313 [==============================] - 3s 8ms/step - loss: 1.1317 - accuracy: 0.6205\n",
      "Loss: 1.1316728591918945,Accuracy: 0.6205000281333923\n"
     ]
    }
   ],
   "source": [
    "import tensorflow as tf\n",
    "from tensorflow.keras.layers import Conv2D,MaxPooling2D,AveragePooling2D,Flatten,Dense,Dropout\n",
    "from tensorflow.keras.models import Sequential\n",
    "from tensorflow.keras.datasets import cifar10\n",
    "from tensorflow.keras.utils import to_categorical\n",
    "(x_train,y_train),(x_test,y_test)=cifar10.load_data()\n",
    "x_train=x_train.astype('float32')/255\n",
    "x_test=x_test.astype('float32')/255\n",
    "y_train=to_categorical(y_train,10)\n",
    "y_test=to_categorical(y_test,10)\n",
    "model=Sequential([Conv2D(6,(5,5),padding='same',activation='relu',input_shape=(32,32,3)),\n",
    "                  AveragePooling2D(2,2),Conv2D(16,(5,5),padding='same',activation='relu'),\n",
    "                  AveragePooling2D(2,2),Flatten(),Dense(120,activation='relu'),\n",
    "                  Dense(84,activation='relu'),Dense(10,activation='softmax')])\n",
    "model.compile(optimizer='adam',loss='categorical_crossentropy',metrics=['accuracy'])\n",
    "model.fit(x_train,y_train,epochs=10,batch_size=32,validation_split=0.2)\n",
    "loss,accuracy=model.evaluate(x_test,y_test)\n",
    "print(f'Loss: {loss},Accuracy: {accuracy}')"
   ]
  },
  {
   "cell_type": "code",
   "execution_count": null,
   "id": "e4ce8a9b-7be7-4bca-8396-ec6ceb5f3e2e",
   "metadata": {},
   "outputs": [],
   "source": [
    "Alexnet"
   ]
  },
  {
   "cell_type": "code",
   "execution_count": 2,
   "id": "2b4bc14a-c466-4525-ae8b-7ff5755dbe99",
   "metadata": {},
   "outputs": [
    {
     "name": "stdout",
     "output_type": "stream",
     "text": [
      "Epoch 1/2\n",
      "477/477 [==============================] - 752s 2s/step - loss: 2.3041 - accuracy: 0.0997 - val_loss: 2.3027 - val_accuracy: 0.0952\n",
      "Epoch 2/2\n",
      "477/477 [==============================] - 793s 2s/step - loss: 2.3029 - accuracy: 0.0984 - val_loss: 2.3027 - val_accuracy: 0.0980\n",
      "313/313 [==============================] - 41s 132ms/step - loss: 2.3026 - accuracy: 0.1000\n",
      "Loss: 2.3026208877563477,Accuracy: 0.10000000149011612\n"
     ]
    }
   ],
   "source": [
    "import tensorflow as tf\n",
    "from tensorflow.keras.layers import Conv2D,MaxPooling2D,AveragePooling2D,Flatten,Dense,Dropout\n",
    "from tensorflow.keras.models import Sequential\n",
    "from tensorflow.keras.datasets import cifar10\n",
    "from tensorflow.keras.utils import to_categorical\n",
    "(x_train,y_train),(x_test,y_test)=cifar10.load_data()\n",
    "x_train=x_train.astype('float32')/255\n",
    "x_test=x_test.astype('float32')/255\n",
    "y_train=to_categorical(y_train,10)\n",
    "y_test=to_categorical(y_test,10)\n",
    "model=Sequential([Conv2D(96,(3,3),activation='relu',input_shape=(32,32,3),padding='same'),\n",
    "                  MaxPooling2D((2,2)),Conv2D(256,(3,3),activation='relu',padding='same'),\n",
    "                  MaxPooling2D((2,2)),Conv2D(384,(3,3),activation='relu',padding='same'),\n",
    "                  Conv2D(384,(3,3),activation='relu',padding='same'),\n",
    "                  Conv2D(384,(3,3),activation='relu',padding='same'),\n",
    "                  Conv2D(256,(3,3),activation='relu',padding='same'),\n",
    "                  MaxPooling2D((2,2)),\n",
    "                  Flatten(),Dense(4096,activation='relu'),\n",
    "                  Dropout(0.5),\n",
    "                  Dense(4096,activation='relu'),Dropout(0.5),\n",
    "                  Dense(10,activation='softmax')])\n",
    "model.compile(optimizer='adam',loss='categorical_crossentropy',metrics=['accuracy'])\n",
    "model.fit(x_train,y_train,epochs=2,batch_size=84,validation_split=0.2)\n",
    "loss,accuracy=model.evaluate(x_test,y_test)\n",
    "print(f'Loss: {loss},Accuracy: {accuracy}')"
   ]
  },
  {
   "cell_type": "code",
   "execution_count": null,
   "id": "9546ae25-8f7d-4024-b4b2-171e666f4964",
   "metadata": {},
   "outputs": [],
   "source": [
    "VGGNet"
   ]
  },
  {
   "cell_type": "code",
   "execution_count": 11,
   "id": "fd986b5d-53c4-4753-9e19-40363f9dfbe2",
   "metadata": {},
   "outputs": [
    {
     "name": "stdout",
     "output_type": "stream",
     "text": [
      "Epoch 1/2\n",
      "477/477 [==============================] - 1459s 3s/step - loss: 2.3028 - accuracy: 0.0976 - val_loss: 2.3027 - val_accuracy: 0.1003\n",
      "Epoch 2/2\n",
      "477/477 [==============================] - 1210s 3s/step - loss: 2.3027 - accuracy: 0.0978 - val_loss: 2.3027 - val_accuracy: 0.0977\n",
      "313/313 [==============================] - 35s 112ms/step - loss: 2.3026 - accuracy: 0.1000\n",
      "Loss: 2.302607536315918, Accuracy: 0.10000000149011612\n"
     ]
    }
   ],
   "source": [
    "import tensorflow as tf\n",
    "from tensorflow.keras.layers import Conv2D,MaxPooling2D,AveragePooling2D,Flatten,Dense,Dropout\n",
    "from tensorflow.keras.models import Sequential \n",
    "from tensorflow.keras.datasets import cifar10\n",
    "from tensorflow.keras.applications import VGG16\n",
    "from tensorflow.keras.utils import to_categorical\n",
    "(x_train,y_train),(x_test,y_test)=cifar10.load_data()\n",
    "x_train=x_train.astype('float32')/255\n",
    "x_test=x_test.astype('float32')/255\n",
    "y_train=to_categorical(y_train,10)\n",
    "y_test=to_categorical(y_test,10)\n",
    "base=VGG16(include_top=False,input_shape=(32,32,3),weights=None)\n",
    "model=Sequential([base,Flatten(),\n",
    "                  Dense(256,activation='relu'),\n",
    "                  Dense(10,activation='softmax')])\n",
    "model.compile(optimizer='adam',loss='categorical_crossentropy',metrics=['accuracy'])\n",
    "model.fit(x_train,y_train,epochs=2,batch_size=84,validation_split=0.2)\n",
    "loss,accuracy=model.evaluate(x_test,y_test)\n",
    "print(f'Loss: {loss}, Accuracy: {accuracy}')"
   ]
  },
  {
   "cell_type": "code",
   "execution_count": null,
   "id": "bea505ef-93db-45f9-b60a-2dea849665b0",
   "metadata": {},
   "outputs": [],
   "source": [
    "Xception"
   ]
  },
  {
   "cell_type": "code",
   "execution_count": 1,
   "id": "77b6f428-9b03-4d06-836c-1582ddb3c1d5",
   "metadata": {},
   "outputs": [
    {
     "name": "stdout",
     "output_type": "stream",
     "text": [
      "625/625 [==============================] - 3951s 6s/step - loss: 1.4680 - accuracy: 0.4816 - val_loss: 1.7685 - val_accuracy: 0.4652\n",
      "313/313 [==============================] - 131s 418ms/step - loss: 1.7746 - accuracy: 0.4708\n",
      "Loss: 1.7745933532714844, Accuracy: 0.4708000123500824\n"
     ]
    }
   ],
   "source": [
    "import tensorflow as tf\n",
    "from tensorflow.keras.layers import Dense,Conv2D,MaxPooling2D,AveragePooling2D,Flatten,Dropout\n",
    "from tensorflow.keras.models import Sequential\n",
    "from tensorflow.keras.applications import Xception\n",
    "from tensorflow.keras.datasets import cifar10\n",
    "from tensorflow.keras.utils import to_categorical\n",
    "(x_train,y_train),(x_test,y_test)=cifar10.load_data()\n",
    "x_train=tf.image.resize(x_train,(75,75)).numpy()\n",
    "x_test=tf.image.resize(x_test,(75,75)).numpy()\n",
    "x_train=x_train.astype('float32')/255\n",
    "x_test=x_test.astype('float32')/255\n",
    "y_train=to_categorical(y_train,10)\n",
    "y_test=to_categorical(y_test,10)\n",
    "models=Xception(include_top=False,input_shape=(75,75,3),weights=None)\n",
    "model=Sequential([models,Flatten(),Dense(256,activation='relu'),\n",
    "                  Dense(10,activation='softmax')])\n",
    "model.compile(optimizer='adam',loss='categorical_crossentropy',metrics=['accuracy'])\n",
    "model.fit(x_train,y_train,epochs=1,batch_size=64,validation_split=0.2)\n",
    "loss,accuracy=model.evaluate(x_test,y_test)\n",
    "print(f'Loss: {loss}, Accuracy: {accuracy}')"
   ]
  },
  {
   "cell_type": "code",
   "execution_count": null,
   "id": "2d317465-d1d4-4641-8bd3-13b4de21dbc0",
   "metadata": {},
   "outputs": [],
   "source": [
    "MobileNet"
   ]
  },
  {
   "cell_type": "code",
   "execution_count": 19,
   "id": "3896e67e-b8fe-491f-b481-02d40adf63c6",
   "metadata": {},
   "outputs": [
    {
     "name": "stdout",
     "output_type": "stream",
     "text": [
      "Epoch 1/10\n",
      "625/625 [==============================] - 253s 399ms/step - loss: 1.9102 - accuracy: 0.2847 - val_loss: 2.3204 - val_accuracy: 0.1052\n",
      "Epoch 2/10\n",
      "625/625 [==============================] - 265s 424ms/step - loss: 1.5326 - accuracy: 0.4321 - val_loss: 1.6860 - val_accuracy: 0.4279\n",
      "Epoch 3/10\n",
      "625/625 [==============================] - 233s 372ms/step - loss: 1.3687 - accuracy: 0.5099 - val_loss: 1.4608 - val_accuracy: 0.5070\n",
      "Epoch 4/10\n",
      "625/625 [==============================] - 207s 332ms/step - loss: 1.2421 - accuracy: 0.5572 - val_loss: 1.3615 - val_accuracy: 0.5404\n",
      "Epoch 5/10\n",
      "625/625 [==============================] - 142s 228ms/step - loss: 1.1431 - accuracy: 0.5968 - val_loss: 1.4607 - val_accuracy: 0.5393\n",
      "Epoch 6/10\n",
      "625/625 [==============================] - 158s 253ms/step - loss: 1.0580 - accuracy: 0.6284 - val_loss: 1.2347 - val_accuracy: 0.5852\n",
      "Epoch 7/10\n",
      "625/625 [==============================] - 161s 258ms/step - loss: 0.9904 - accuracy: 0.6535 - val_loss: 1.2406 - val_accuracy: 0.6022\n",
      "Epoch 8/10\n",
      "625/625 [==============================] - 159s 254ms/step - loss: 0.9077 - accuracy: 0.6831 - val_loss: 1.2805 - val_accuracy: 0.5831\n",
      "Epoch 9/10\n",
      "625/625 [==============================] - 164s 263ms/step - loss: 0.8534 - accuracy: 0.7036 - val_loss: 1.0666 - val_accuracy: 0.6489\n",
      "Epoch 10/10\n",
      "625/625 [==============================] - 187s 300ms/step - loss: 0.7827 - accuracy: 0.7293 - val_loss: 1.1060 - val_accuracy: 0.6411\n",
      "313/313 [==============================] - 7s 24ms/step - loss: 1.1409 - accuracy: 0.6307\n",
      "Loss: 1.1408551931381226, Accuracy: 0.6306999921798706\n"
     ]
    }
   ],
   "source": [
    "import tensorflow as tf\n",
    "from tensorflow.keras.layers import Dense,Conv2D,MaxPooling2D,AveragePooling2D,Flatten,Dropout\n",
    "from tensorflow.keras.models import Sequential\n",
    "from tensorflow.keras.applications import MobileNet\n",
    "from tensorflow.keras.utils import to_categorical\n",
    "from tensorflow.keras.datasets import cifar10\n",
    "(x_train,y_train),(x_test,y_test)=cifar10.load_data()\n",
    "x_train=x_train.astype('float32')/255\n",
    "x_test=x_test.astype('float32')/255\n",
    "y_train=to_categorical(y_train,10)\n",
    "y_test=to_categorical(y_test,10)\n",
    "models=MobileNet(include_top=False,input_shape=(32,32,3),weights=None)\n",
    "model=Sequential([models,Flatten(),\n",
    "                  Dense(256,activation='relu'),\n",
    "                  Dense(10,activation='softmax')])\n",
    "model.compile(optimizer='adam',loss='categorical_crossentropy',metrics=['accuracy'])\n",
    "model.fit(x_train,y_train,epochs=10,batch_size=64,validation_split=0.2)\n",
    "loss,accuracy=model.evaluate(x_test,y_test)\n",
    "print(f'Loss: {loss}, Accuracy: {accuracy}')"
   ]
  },
  {
   "cell_type": "code",
   "execution_count": null,
   "id": "6e48094b-7dcf-453b-93b6-4aa4d7e0f6d5",
   "metadata": {},
   "outputs": [],
   "source": [
    "NasNet, we use NasNet as NasNetMobile"
   ]
  },
  {
   "cell_type": "code",
   "execution_count": 23,
   "id": "e191b5bf-0454-4cf7-ae88-890bca027e75",
   "metadata": {},
   "outputs": [
    {
     "name": "stdout",
     "output_type": "stream",
     "text": [
      "Epoch 1/5\n",
      "750/750 [==============================] - 259s 319ms/step - loss: 0.3622 - accuracy: 0.8863 - val_loss: 2.6952 - val_accuracy: 0.1326\n",
      "Epoch 2/5\n",
      "750/750 [==============================] - 258s 344ms/step - loss: 0.1277 - accuracy: 0.9625 - val_loss: 3.9775 - val_accuracy: 0.2009\n",
      "Epoch 3/5\n",
      "750/750 [==============================] - 259s 346ms/step - loss: 0.0927 - accuracy: 0.9732 - val_loss: 9.5576 - val_accuracy: 0.1094\n",
      "Epoch 4/5\n",
      "750/750 [==============================] - 257s 342ms/step - loss: 0.0765 - accuracy: 0.9783 - val_loss: 12.8299 - val_accuracy: 0.1077\n",
      "Epoch 5/5\n",
      "750/750 [==============================] - 261s 347ms/step - loss: 0.0675 - accuracy: 0.9800 - val_loss: 15.8274 - val_accuracy: 0.1088\n",
      "313/313 [==============================] - 16s 52ms/step - loss: 15.5599 - accuracy: 0.1156\n",
      "Loss: 15.559929847717285, Accuracy: 0.11559999734163284\n"
     ]
    }
   ],
   "source": [
    "import tensorflow as tf\n",
    "from tensorflow.keras.layers import Dense,Conv2D,MaxPooling2D,AveragePooling2D,Flatten,Dropout\n",
    "from tensorflow.keras.models import Sequential\n",
    "from tensorflow.keras.applications import NASNetMobile\n",
    "from tensorflow.keras.utils import to_categorical\n",
    "from tensorflow.keras.datasets import mnist\n",
    "(x_train,y_train),(x_test,y_test)=mnist.load_data()\n",
    "x_train=tf.image.grayscale_to_rgb(tf.image.resize(x_train[...,tf.newaxis],(32,32))).numpy()\n",
    "x_test=tf.image.grayscale_to_rgb(tf.image.resize(x_test[...,tf.newaxis],(32,32))).numpy()\n",
    "x_train=x_train.astype('float32')/255\n",
    "x_test=x_test.astype('float32')/255\n",
    "y_train=to_categorical(y_train,10)\n",
    "y_test=to_categorical(y_test,10)\n",
    "models=NASNetMobile(include_top=False,input_shape=(32,32,3),weights=None)\n",
    "model=Sequential([models,Flatten(),\n",
    "                  Dense(256,activation='relu'),\n",
    "                  Dense(10,activation='softmax')])\n",
    "model.compile(optimizer='adam',loss='categorical_crossentropy',metrics=['accuracy'])\n",
    "model.fit(x_train,y_train,epochs=5,batch_size=64,validation_split=0.2)\n",
    "loss,accuracy=model.evaluate(x_test,y_test)\n",
    "print(f'Loss: {loss}, Accuracy: {accuracy}')"
   ]
  },
  {
   "cell_type": "code",
   "execution_count": 24,
   "id": "8996c791-ecda-40a4-8332-ef1208860542",
   "metadata": {},
   "outputs": [
    {
     "name": "stdout",
     "output_type": "stream",
     "text": [
      "Epoch 1/5\n",
      "750/750 [==============================] - 224s 291ms/step - loss: 0.5654 - accuracy: 0.8188 - val_loss: 0.2581 - val_accuracy: 0.9178\n",
      "Epoch 2/5\n",
      "750/750 [==============================] - 213s 284ms/step - loss: 0.1459 - accuracy: 0.9578 - val_loss: 0.0881 - val_accuracy: 0.9733\n",
      "Epoch 3/5\n",
      "750/750 [==============================] - 226s 302ms/step - loss: 0.0942 - accuracy: 0.9733 - val_loss: 0.0864 - val_accuracy: 0.9753\n",
      "Epoch 4/5\n",
      "750/750 [==============================] - 220s 294ms/step - loss: 0.0750 - accuracy: 0.9795 - val_loss: 0.0557 - val_accuracy: 0.9841\n",
      "Epoch 5/5\n",
      "750/750 [==============================] - 213s 283ms/step - loss: 0.0827 - accuracy: 0.9777 - val_loss: 0.1059 - val_accuracy: 0.9718\n",
      "313/313 [==============================] - 16s 50ms/step - loss: 0.1179 - accuracy: 0.9705\n",
      "Loss: 0.11793921142816544, Accuracy: 0.9704999923706055\n"
     ]
    }
   ],
   "source": [
    "import tensorflow as tf\n",
    "from tensorflow.keras.layers import Dense,Conv2D,MaxPooling2D,AveragePooling2D,Flatten,Dropout\n",
    "from tensorflow.keras.models import Sequential\n",
    "from tensorflow.keras.applications import EfficientNetB0\n",
    "from tensorflow.keras.utils import to_categorical\n",
    "from tensorflow.keras.datasets import mnist\n",
    "(x_train,y_train),(x_test,y_test)=mnist.load_data()\n",
    "x_train=tf.image.grayscale_to_rgb(tf.image.resize(x_train[...,tf.newaxis],(32,32))).numpy()\n",
    "x_test=tf.image.grayscale_to_rgb(tf.image.resize(x_test[...,tf.newaxis],(32,32))).numpy()\n",
    "x_train=x_train.astype('float32')/255\n",
    "x_test=x_test.astype('float32')/255\n",
    "y_train=to_categorical(y_train,10)\n",
    "y_test=to_categorical(y_test,10)\n",
    "models=EfficientNetB0(include_top=False,input_shape=(32,32,3),weights=None)\n",
    "model=Sequential([models,Flatten(),\n",
    "                  Dense(256,activation='relu'),\n",
    "                  Dense(10,activation='softmax')])\n",
    "model.compile(optimizer='adam',loss='categorical_crossentropy',metrics=['accuracy'])\n",
    "model.fit(x_train,y_train,epochs=5,batch_size=64,validation_split=0.2)\n",
    "loss,accuracy=model.evaluate(x_test,y_test)\n",
    "print(f'Loss: {loss}, Accuracy: {accuracy}')"
   ]
  },
  {
   "cell_type": "code",
   "execution_count": null,
   "id": "bec591a4-99d0-49c4-9e91-cbba61cdc12e",
   "metadata": {},
   "outputs": [],
   "source": []
  }
 ],
 "metadata": {
  "kernelspec": {
   "display_name": "Python 3",
   "language": "python",
   "name": "python3"
  },
  "language_info": {
   "codemirror_mode": {
    "name": "ipython",
    "version": 3
   },
   "file_extension": ".py",
   "mimetype": "text/x-python",
   "name": "python",
   "nbconvert_exporter": "python",
   "pygments_lexer": "ipython3",
   "version": "3.11.9"
  }
 },
 "nbformat": 4,
 "nbformat_minor": 5
}
